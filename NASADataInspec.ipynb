{
 "cells": [
  {
   "cell_type": "markdown",
   "metadata": {},
   "source": [
    "# this is a data inspection file to better understand the NASA dataset"
   ]
  },
  {
   "cell_type": "code",
   "execution_count": null,
   "metadata": {},
   "outputs": [],
   "source": [
    "!pip install scipy.io"
   ]
  },
  {
   "cell_type": "markdown",
   "metadata": {},
   "source": [
    "### Packages"
   ]
  },
  {
   "cell_type": "code",
   "execution_count": 1,
   "metadata": {},
   "outputs": [],
   "source": [
    "import scipy.io"
   ]
  },
  {
   "cell_type": "code",
   "execution_count": 21,
   "metadata": {},
   "outputs": [],
   "source": [
    "folder_path = \"/Users/Axel/Documents/Master/MasterThesis/DataSets/NASA/5. Battery Data Set/1. BatteryAgingARC-FY08Q4\"\n",
    "dataB0005 = scipy.io.loadmat(folder_path + '/B0005.mat')\n",
    "dataB0006 = scipy.io.loadmat(folder_path + '/B0006.mat')\n",
    "# Undersök vad som finns i filen\n",
    "#print(data.keys())"
   ]
  },
  {
   "cell_type": "code",
   "execution_count": 22,
   "metadata": {},
   "outputs": [
    {
     "name": "stdout",
     "output_type": "stream",
     "text": [
      "616\n",
      "616\n",
      "Cycle 0: Type = charge\n",
      "Cycle 1: Type = discharge\n",
      "Cycle 2: Type = charge\n",
      "Cycle 3: Type = discharge\n",
      "Cycle 4: Type = charge\n",
      "Cycle 5: Type = discharge\n",
      "Cycle 6: Type = charge\n",
      "Cycle 7: Type = discharge\n",
      "Cycle 8: Type = charge\n",
      "Cycle 9: Type = discharge\n"
     ]
    }
   ],
   "source": [
    "battery_data_b0005 = dataB0005['B0005']\n",
    "battery_data_b0006 = dataB0006['B0006']\n",
    "\n",
    "cycle_data5 = battery_data_b0005[0, 0]['cycle']\n",
    "cycle_data6 = battery_data_b0006[0, 0]['cycle']\n",
    "print(len(cycle_data5[0]))  # eller len(cycle_data[0]) beroende på struktur\n",
    "print(len(cycle_data6[0]))  # eller len(cycle_data[0]) beroende på struktur\n",
    "\n",
    "for i in range(10):\n",
    "    cycle = cycle_data5[0][i]  # eller cycle_data[i] beroende på struktur\n",
    "    print(f\"Cycle {i}: Type = {cycle['type'][0]}\")\n"
   ]
  },
  {
   "cell_type": "code",
   "execution_count": null,
   "metadata": {},
   "outputs": [],
   "source": [
    "first_cycle = cycles[0][0][0]\n",
    "\n",
    "# Visa t.ex. typ av operation\n",
    "print(first_cycle['type'])"
   ]
  }
 ],
 "metadata": {
  "kernelspec": {
   "display_name": "battery-soh-env",
   "language": "python",
   "name": "python3"
  },
  "language_info": {
   "codemirror_mode": {
    "name": "ipython",
    "version": 3
   },
   "file_extension": ".py",
   "mimetype": "text/x-python",
   "name": "python",
   "nbconvert_exporter": "python",
   "pygments_lexer": "ipython3",
   "version": "3.10.12"
  }
 },
 "nbformat": 4,
 "nbformat_minor": 2
}
