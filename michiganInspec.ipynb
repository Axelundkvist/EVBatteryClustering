{
 "cells": [
  {
   "cell_type": "code",
   "execution_count": null,
   "metadata": {},
   "outputs": [],
   "source": [
    "%pip install pandas\n",
    "%pip install numpy\n",
    "%pip install os\n",
    "%pip install matplotlib\n",
    "%pip install scikit-learn\n",
    "\n"
   ]
  },
  {
   "cell_type": "code",
   "execution_count": null,
   "metadata": {},
   "outputs": [],
   "source": [
    "%pip install scikit-learn\n"
   ]
  },
  {
   "cell_type": "code",
   "execution_count": 3,
   "metadata": {},
   "outputs": [],
   "source": [
    "import pandas as pd\n",
    "import numpy as np\n",
    "import os\n",
    "import matplotlib.pyplot as plt\n",
    "from sklearn.preprocessing import MinMaxScaler"
   ]
  },
  {
   "cell_type": "code",
   "execution_count": 12,
   "metadata": {},
   "outputs": [],
   "source": [
    "datafiles = [\n",
    "    \"/Users/Axel/Documents/Master/MasterThesis/DataSets/Michigan/axel/cell_1.csv\",\n",
    "    \"/Users/Axel/Documents/Master/MasterThesis/DataSets/Michigan/axel/cell_2.csv\",\n",
    "    \"/Users/Axel/Documents/Master/MasterThesis/DataSets/Michigan/axel/cell_3.csv\",\n",
    "    \"/Users/Axel/Documents/Master/MasterThesis/DataSets/Michigan/axel/cell_4.csv\",\n",
    "    \"/Users/Axel/Documents/Master/MasterThesis/DataSets/Michigan/axel/cell_5.csv\",\n",
    "    \"/Users/Axel/Documents/Master/MasterThesis/DataSets/Michigan/axel/cell_6.csv\",\n",
    "    \"/Users/Axel/Documents/Master/MasterThesis/DataSets/Michigan/axel/cell_7.csv\",\n",
    "    \"/Users/Axel/Documents/Master/MasterThesis/DataSets/Michigan/axel/cell_8.csv\",\n",
    "    \"/Users/Axel/Documents/Master/MasterThesis/DataSets/Michigan/axel/cell_9.csv\",\n",
    "    \"/Users/Axel/Documents/Master/MasterThesis/DataSets/Michigan/axel/cell_10.csv\",\n",
    "    \"/Users/Axel/Documents/Master/MasterThesis/DataSets/Michigan/axel/cell_11.csv\",\n",
    "    \"/Users/Axel/Documents/Master/MasterThesis/DataSets/Michigan/axel/cell_12.csv\",\n",
    "]"
   ]
  },
  {
   "cell_type": "markdown",
   "metadata": {},
   "source": [
    "# available columns "
   ]
  },
  {
   "cell_type": "raw",
   "metadata": {},
   "source": [
    "   Cycle_Index  Current (A)  Voltage (V)  Charge_Capacity (Ah)  \\\n",
    "0          1.0          1.0        3.013                 0.000   \n",
    "1          1.0          1.0        3.107                 0.003   \n",
    "2          1.0          1.0        3.128                 0.006   \n",
    "3          1.0          1.0        3.145                 0.008   \n",
    "4          1.0          1.0        3.158                 0.011   \n",
    "\n",
    "   Discharge_Capacity (Ah)  Charge_Energy (Wh)  Discharge_Energy (Wh)  \\\n",
    "0                      0.0               0.000                    0.0   \n",
    "1                      0.0               0.009                    0.0   \n",
    "2                      0.0               0.017                    0.0   \n",
    "3                      0.0               0.026                    0.0   \n",
    "4                      0.0               0.035                    0.0   \n",
    "\n",
    "   Environment_Temperature (C)  \n",
    "0                           25  \n",
    "1                           25  \n",
    "2                           25  \n",
    "3                           25  \n",
    "4                           25  "
   ]
  },
  {
   "cell_type": "code",
   "execution_count": 13,
   "metadata": {},
   "outputs": [
    {
     "name": "stdout",
     "output_type": "stream",
     "text": [
      "Reading '/Users/Axel/Documents/Master/MasterThesis/DataSets/Michigan/axel/cell_1.csv'\n",
      "Reading '/Users/Axel/Documents/Master/MasterThesis/DataSets/Michigan/axel/cell_2.csv'\n",
      "Reading '/Users/Axel/Documents/Master/MasterThesis/DataSets/Michigan/axel/cell_3.csv'\n",
      "Reading '/Users/Axel/Documents/Master/MasterThesis/DataSets/Michigan/axel/cell_4.csv'\n",
      "Reading '/Users/Axel/Documents/Master/MasterThesis/DataSets/Michigan/axel/cell_5.csv'\n",
      "Reading '/Users/Axel/Documents/Master/MasterThesis/DataSets/Michigan/axel/cell_6.csv'\n",
      "Reading '/Users/Axel/Documents/Master/MasterThesis/DataSets/Michigan/axel/cell_7.csv'\n",
      "Reading '/Users/Axel/Documents/Master/MasterThesis/DataSets/Michigan/axel/cell_8.csv'\n",
      "Reading '/Users/Axel/Documents/Master/MasterThesis/DataSets/Michigan/axel/cell_9.csv'\n",
      "Reading '/Users/Axel/Documents/Master/MasterThesis/DataSets/Michigan/axel/cell_10.csv'\n",
      "Reading '/Users/Axel/Documents/Master/MasterThesis/DataSets/Michigan/axel/cell_11.csv'\n",
      "Reading '/Users/Axel/Documents/Master/MasterThesis/DataSets/Michigan/axel/cell_12.csv'\n"
     ]
    }
   ],
   "source": [
    "dataframes = []\n",
    "for fp in datafiles:\n",
    "    print(f\"Reading {fp!r}\")\n",
    "    df = pd.read_csv(fp)\n",
    "    dataframes.append(df)\n"
   ]
  },
  {
   "cell_type": "code",
   "execution_count": null,
   "metadata": {},
   "outputs": [],
   "source": [
    "print(dataframes)"
   ]
  },
  {
   "cell_type": "code",
   "execution_count": 19,
   "metadata": {},
   "outputs": [
    {
     "name": "stdout",
     "output_type": "stream",
     "text": [
      "<class 'pandas.core.frame.DataFrame'>\n",
      "RangeIndex: 1178214 entries, 0 to 1178213\n",
      "Data columns (total 9 columns):\n",
      " #   Column                       Non-Null Count    Dtype  \n",
      "---  ------                       --------------    -----  \n",
      " 0   Cycle_Index                  1178214 non-null  float64\n",
      " 1   Current (A)                  1178214 non-null  float64\n",
      " 2   Voltage (V)                  1178214 non-null  float64\n",
      " 3   Charge_Capacity (Ah)         1178214 non-null  float64\n",
      " 4   Discharge_Capacity (Ah)      1178214 non-null  float64\n",
      " 5   Charge_Energy (Wh)           1178214 non-null  float64\n",
      " 6   Discharge_Energy (Wh)        1178214 non-null  float64\n",
      " 7   Environment_Temperature (C)  1178214 non-null  float64\n",
      " 8   SoH                          1178214 non-null  float64\n",
      "dtypes: float64(9)\n",
      "memory usage: 80.9 MB\n",
      "None\n",
      "   Cycle_Index  Current (A)  Voltage (V)  Charge_Capacity (Ah)  \\\n",
      "0          0.0     0.549053     0.010569              0.000000   \n",
      "1          0.0     0.549053     0.086992              0.000161   \n",
      "2          0.0     0.549053     0.104065              0.000323   \n",
      "3          0.0     0.549053     0.117886              0.000431   \n",
      "4          0.0     0.549053     0.128455              0.000592   \n",
      "\n",
      "   Discharge_Capacity (Ah)  Charge_Energy (Wh)  Discharge_Energy (Wh)  \\\n",
      "0                      0.0            0.000000                    0.0   \n",
      "1                      0.0            0.000129                    0.0   \n",
      "2                      0.0            0.000244                    0.0   \n",
      "3                      0.0            0.000373                    0.0   \n",
      "4                      0.0            0.000503                    0.0   \n",
      "\n",
      "   Environment_Temperature (C)    SoH  \n",
      "0                          0.6  100.0  \n",
      "1                          0.6  100.0  \n",
      "2                          0.6  100.0  \n",
      "3                          0.6  100.0  \n",
      "4                          0.6  100.0  \n"
     ]
    }
   ],
   "source": [
    "cell1 = dataframes[0]\n",
    "print(cell1.info())\n",
    "print(cell1.head())\n"
   ]
  },
  {
   "cell_type": "code",
   "execution_count": 20,
   "metadata": {},
   "outputs": [
    {
     "name": "stdout",
     "output_type": "stream",
     "text": [
      "         Cycle_Index  Current (A)  Voltage (V)  Charge_Capacity (Ah)  \\\n",
      "0           0.000000     0.549053     0.010569              0.000000   \n",
      "1           0.000000     0.549053     0.086992              0.000161   \n",
      "2           0.000000     0.549053     0.104065              0.000323   \n",
      "3           0.000000     0.549053     0.117886              0.000431   \n",
      "4           0.000000     0.549053     0.128455              0.000592   \n",
      "...              ...          ...          ...                   ...   \n",
      "1178204     0.660839     0.449856     0.107317              0.000000   \n",
      "1178205     0.660839     0.449856     0.095935              0.000000   \n",
      "1178206     0.660839     0.449856     0.084553              0.000000   \n",
      "1178207     0.660839     0.449856     0.072358              0.000000   \n",
      "1178208     0.660839     0.449856     0.059350              0.000000   \n",
      "\n",
      "         Discharge_Capacity (Ah)  Charge_Energy (Wh)  Discharge_Energy (Wh)  \\\n",
      "0                       0.000000            0.000000               0.000000   \n",
      "1                       0.000000            0.000129               0.000000   \n",
      "2                       0.000000            0.000244               0.000000   \n",
      "3                       0.000000            0.000373               0.000000   \n",
      "4                       0.000000            0.000503               0.000000   \n",
      "...                          ...                 ...                    ...   \n",
      "1178204                 0.701866            0.000000               0.711593   \n",
      "1178205                 0.702276            0.000000               0.712034   \n",
      "1178206                 0.702891            0.000000               0.712530   \n",
      "1178207                 0.703506            0.000000               0.712971   \n",
      "1178208                 0.704121            0.000000               0.713467   \n",
      "\n",
      "         Environment_Temperature (C)         SoH  \n",
      "0                                0.6  100.000000  \n",
      "1                                0.6  100.000000  \n",
      "2                                0.6  100.000000  \n",
      "3                                0.6  100.000000  \n",
      "4                                0.6  100.000000  \n",
      "...                              ...         ...  \n",
      "1178204                          0.6   70.675149  \n",
      "1178205                          0.6   70.675149  \n",
      "1178206                          0.6   70.675149  \n",
      "1178207                          0.6   70.675149  \n",
      "1178208                          0.6   70.675149  \n",
      "\n",
      "[1178209 rows x 9 columns]\n"
     ]
    }
   ],
   "source": [
    "print(cell1.head(-5))"
   ]
  },
  {
   "cell_type": "code",
   "execution_count": 22,
   "metadata": {},
   "outputs": [
    {
     "name": "stdout",
     "output_type": "stream",
     "text": [
      "           process  Cycle_Index  Current (A)  Voltage (V)  Charge_Energy (Wh)  \\\n",
      "1836        charge     0.000000     0.504414      0.97561            0.265691   \n",
      "3593     discharge     0.000000     0.449856      0.00000            0.000000   \n",
      "5421        charge     0.001748     0.504414      0.97561            0.264829   \n",
      "7179     discharge     0.001748     0.449856      0.00000            0.000000   \n",
      "9005        charge     0.003497     0.504414      0.97561            0.264872   \n",
      "...            ...          ...          ...          ...                 ...   \n",
      "1173102  discharge     0.657343     0.449856      0.00000            0.000000   \n",
      "1174416     charge     0.659091     0.504414      0.97561            0.190604   \n",
      "1175660  discharge     0.659091     0.449856      0.00000            0.000000   \n",
      "1176971     charge     0.660839     0.504414      0.97561            0.190302   \n",
      "1178213  discharge     0.660839     0.449856      0.00000            0.000000   \n",
      "\n",
      "         Discharge_Energy (Wh)  \n",
      "1836                  0.000000  \n",
      "3593                  0.998953  \n",
      "5421                  0.000000  \n",
      "7179                  1.000000  \n",
      "9005                  0.000000  \n",
      "...                        ...  \n",
      "1173102               0.717325  \n",
      "1174416               0.000000  \n",
      "1175660               0.716278  \n",
      "1176971               0.000000  \n",
      "1178213               0.715120  \n",
      "\n",
      "[756 rows x 6 columns]\n"
     ]
    }
   ],
   "source": [
    "# ── 1) Load your data ─────────────────────────────────────────────────────────────\n",
    "df = pd.read_csv(\"/Users/Axel/Documents/Master/MasterThesis/DataSets/Michigan/axel/cell_1.csv\")\n",
    "\n",
    "# ── 2) Tag each row as charge, discharge, or rest ────────────────────────────────\n",
    "df['process'] = np.where(df['Charge_Energy (Wh)'] > 0,\n",
    "                         'charge',\n",
    "                         np.where(df['Discharge_Energy (Wh)'] > 0,\n",
    "                                  'discharge',\n",
    "                                  'rest'))\n",
    "\n",
    "# ── 3) Find the end of each session ───────────────────────────────────────────────\n",
    "#    A session “ends” when the current process is non-rest and the next row’s process is different.\n",
    "df['next_proc'] = df['process'].shift(-1)\n",
    "end_mask = (df['process'] != df['next_proc']) & (df['process'].isin(['charge','discharge']))\n",
    "\n",
    "session_ends = df.loc[end_mask, ['process',\n",
    "                                 'Cycle_Index',\n",
    "                                 'Current (A)',\n",
    "                                 'Voltage (V)',\n",
    "                                 'Charge_Energy (Wh)',\n",
    "                                 'Discharge_Energy (Wh)']]\n",
    "\n",
    "print(session_ends)\n"
   ]
  },
  {
   "cell_type": "code",
   "execution_count": null,
   "metadata": {},
   "outputs": [],
   "source": []
  }
 ],
 "metadata": {
  "kernelspec": {
   "display_name": "Python 3",
   "language": "python",
   "name": "python3"
  },
  "language_info": {
   "codemirror_mode": {
    "name": "ipython",
    "version": 3
   },
   "file_extension": ".py",
   "mimetype": "text/x-python",
   "name": "python",
   "nbconvert_exporter": "python",
   "pygments_lexer": "ipython3",
   "version": "3.10.13"
  }
 },
 "nbformat": 4,
 "nbformat_minor": 2
}
