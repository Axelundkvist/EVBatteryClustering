sf = ServerFunctions()

client_ids = [c.id for c in clients]
sf.client_clusters = {cid: 0 for cid in client_ids}

#print(client_ids)

for i in range(num_rounds):
    round = i
    print('-'*15, f'PSYCHOSIS!! - starting round {round}', '-'*15)
    
    try:
        selected_ids = sf.client_selection(client_ids)
        selected_clients = [c for c in clients if c.id in selected_ids]
        #config = sf.client_settings(parameters_np)
        all_settings = sf.client_settings(parameters_np)
        # print("→ client_clusters:", sf.client_clusters)
        # print("→ all_settings keys:", all_settings.keys())
    
    except:
        print("fucked up at settings part innit?")
    
    
    
    example_mode = all_settings[selected_ids[0]]["mode"]

    #print(f"example_mode : {example_mode}")

    print(f'PSYCHOSIS MODE IS {example_mode}')

    if example_mode == "log":
        for i, cli in enumerate(selected_clients):
            try: 
                cli.gen_data(filepath=datafiles[i],current_round=round, total_rounds=num_rounds)
            except:
                print(f"fucked up generating the data ya dipshit t('_'t")
            cli.act(all_settings[cli.id], round)
        new_global = sf.aggregate(parameters_np, {})
    else:
        for_agg = {}
        for i, cli in enumerate(selected_clients):
            cfg = all_settings[cli.id]
            cli.gen_data(filepath=datafiles[i],current_round=round, total_rounds=num_rounds)
        
        
            output = cli.act(cfg, round=round)
            mode   = cfg["mode"]

            print(f"mode : {mode}, and type: {type(mode)}")
            #print(f"cfg = {cfg}")
            try:
                if isinstance(output, tuple):
                    if mode == "vanilla" and len(output) == 3:
                        updated_model, loss, val_loss = output
                    elif len(output) == 2:
                        updated_model, loss = output
                    else:
                        updated_model = output[0]
                else: 
                    updated_model = output
            except:
                print("fkn Biden administration's fault")
            
            # Convert model to List[np.ndarray]
            updated_np = [val.cpu().numpy() for _, val in updated_model.state_dict().items()]
            
            #print(f"updated_np : {updated_np}")

            # Build metadata dict
            metadata = {
                "loss": loss,
                "mode": mode,
                "distribution": cli.dist,
                "num_examples": cli.X.shape[0],
                "recent_stats": cli.stats
            }

            if mode == "vanilla" and val_loss is not None:
                print('MODE IS VANILLA!!!')
                metadata["val_loss"] = val_loss
                print(val_loss)

            # Store in aggregation dictionary
            for_agg[cli.id] = (updated_np, metadata)

        new_global = sf.aggregate(parameters_np, for_agg)

    # if sf.handler.stop:
    #     print(f'[INFO] - stopping simulation')
    #     break

    print('-'*10, 'FINISHED', '-'*10)
